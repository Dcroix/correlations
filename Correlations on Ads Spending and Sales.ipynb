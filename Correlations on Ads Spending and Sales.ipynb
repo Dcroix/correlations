{
 "cells": [
  {
   "cell_type": "markdown",
   "id": "36e7a6ad",
   "metadata": {},
   "source": [
    "## <span style=\"font-family:Palatino Linotype\"><font color='teal'>Correlations on Ads Spending and Sales</font>\n",
    "### <span style=\"font-family:Palatino Linotype\"><font color='teal'>Paolo G. Hilado</font></span> \n",
    "\n",
    "<span><font color='steelblue'>Situationer:</font></span>  The company wishes to explore whether spending on advertisements via the radio is likely to increase sales. As such, data has been collected across different branches that had budget for radio advertisements together with their respective sales for the period. This project will explore whether a significat relationship exists between aforesaid variables."
   ]
  },
  {
   "cell_type": "code",
   "execution_count": 2,
   "id": "55159265",
   "metadata": {},
   "outputs": [],
   "source": [
    "import pandas as pd\n",
    "import numpy as np\n",
    "import scipy.stats as scs\n",
    "import statsmodels.api as sm\n",
    "import seaborn as sns\n",
    "import warnings\n",
    "warnings.filterwarnings('ignore')"
   ]
  },
  {
   "cell_type": "code",
   "execution_count": 10,
   "id": "f4afb8a7",
   "metadata": {},
   "outputs": [
    {
     "name": "stdout",
     "output_type": "stream",
     "text": [
      "<class 'pandas.core.frame.DataFrame'>\n",
      "RangeIndex: 113 entries, 0 to 112\n",
      "Data columns (total 4 columns):\n",
      " #   Column      Non-Null Count  Dtype  \n",
      "---  ------      --------------  -----  \n",
      " 0   Unnamed: 0  113 non-null    int64  \n",
      " 1   RAspend     110 non-null    float64\n",
      " 2   Sales       110 non-null    float64\n",
      " 3   UnitID      113 non-null    int64  \n",
      "dtypes: float64(2), int64(2)\n",
      "memory usage: 3.7 KB\n"
     ]
    }
   ],
   "source": [
    "df = pd.read_excel(\"RadioAds.xlsx\")\n",
    "df.info()"
   ]
  },
  {
   "cell_type": "code",
   "execution_count": 6,
   "id": "02a1d6e4",
   "metadata": {},
   "outputs": [
    {
     "data": {
      "text/html": [
       "<div>\n",
       "<style scoped>\n",
       "    .dataframe tbody tr th:only-of-type {\n",
       "        vertical-align: middle;\n",
       "    }\n",
       "\n",
       "    .dataframe tbody tr th {\n",
       "        vertical-align: top;\n",
       "    }\n",
       "\n",
       "    .dataframe thead th {\n",
       "        text-align: right;\n",
       "    }\n",
       "</style>\n",
       "<table border=\"1\" class=\"dataframe\">\n",
       "  <thead>\n",
       "    <tr style=\"text-align: right;\">\n",
       "      <th></th>\n",
       "      <th>Unnamed: 0</th>\n",
       "      <th>RAspend</th>\n",
       "      <th>Sales</th>\n",
       "      <th>UnitID</th>\n",
       "    </tr>\n",
       "  </thead>\n",
       "  <tbody>\n",
       "    <tr>\n",
       "      <th>11</th>\n",
       "      <td>12</td>\n",
       "      <td>NaN</td>\n",
       "      <td>NaN</td>\n",
       "      <td>1153</td>\n",
       "    </tr>\n",
       "    <tr>\n",
       "      <th>19</th>\n",
       "      <td>20</td>\n",
       "      <td>NaN</td>\n",
       "      <td>NaN</td>\n",
       "      <td>1161</td>\n",
       "    </tr>\n",
       "    <tr>\n",
       "      <th>25</th>\n",
       "      <td>26</td>\n",
       "      <td>NaN</td>\n",
       "      <td>NaN</td>\n",
       "      <td>1167</td>\n",
       "    </tr>\n",
       "  </tbody>\n",
       "</table>\n",
       "</div>"
      ],
      "text/plain": [
       "    Unnamed: 0  RAspend  Sales  UnitID\n",
       "11          12      NaN    NaN    1153\n",
       "19          20      NaN    NaN    1161\n",
       "25          26      NaN    NaN    1167"
      ]
     },
     "execution_count": 6,
     "metadata": {},
     "output_type": "execute_result"
    }
   ],
   "source": [
    "# let us check for rows with missing cases\n",
    "df[df.isnull().any(axis=1)]"
   ]
  },
  {
   "cell_type": "code",
   "execution_count": 11,
   "id": "feed0c5c",
   "metadata": {},
   "outputs": [
    {
     "name": "stdout",
     "output_type": "stream",
     "text": [
      "<class 'pandas.core.frame.DataFrame'>\n",
      "Int64Index: 110 entries, 0 to 112\n",
      "Data columns (total 2 columns):\n",
      " #   Column   Non-Null Count  Dtype  \n",
      "---  ------   --------------  -----  \n",
      " 0   RAspend  110 non-null    float64\n",
      " 1   Sales    110 non-null    float64\n",
      "dtypes: float64(2)\n",
      "memory usage: 2.6 KB\n"
     ]
    }
   ],
   "source": [
    "# Drop rows with missing cases for both variables; remove columns that are not needed\n",
    "df = df.dropna()\n",
    "df = df.iloc[:, 1:3]\n",
    "df.info()"
   ]
  },
  {
   "cell_type": "code",
   "execution_count": 20,
   "id": "291d6125",
   "metadata": {},
   "outputs": [],
   "source": [
    "# Check whether distributions from the variables are approximately normal\n",
    "ad = df.apply(scs.anderson, axis = 0)\n",
    "print(\"Ads Spending p-value:\", ad.iloc[1,0][2])\n",
    "print(\"Sales p-value:\", ad.iloc[1,1][2])"
   ]
  },
  {
   "cell_type": "code",
   "execution_count": 25,
   "id": "c2fb19a5",
   "metadata": {},
   "outputs": [
    {
     "data": {
      "image/png": "[encoded data removed]",
      "text/plain": [
       "<Figure size 432x288 with 1 Axes>"
      ]
     },
     "metadata": {},
     "output_type": "display_data"
    }
   ],
   "source": [
    "# Check visualizations if the distributions are approximately normal\n",
    "sns.set_theme(style = \"dark\")\n",
    "ax = sns.boxplot(data = df, palette = \"Set3\")"
   ]
  },
  {
   "cell_type": "code",
   "execution_count": 28,
   "id": "037d69c5",
   "metadata": {},
   "outputs": [
    {
     "name": "stdout",
     "output_type": "stream",
     "text": [
      "QQ-plot of Variable Radio Ads Spending\n"
     ]
    },
    {
     "data": {
      "image/png": "[encoded data removed]",
      "text/plain": [
       "<Figure size 432x288 with 1 Axes>"
      ]
     },
     "metadata": {},
     "output_type": "display_data"
    }
   ],
   "source": [
    "# Let us check the qq-plots for variable Radio Ads Spending\n",
    "print(\"QQ-plot of Variable Radio Ads Spending\")\n",
    "sm.qqplot(df['RAspend'], line ='s'); "
   ]
  },
  {
   "cell_type": "code",
   "execution_count": 29,
   "id": "d731a817",
   "metadata": {},
   "outputs": [
    {
     "name": "stdout",
     "output_type": "stream",
     "text": [
      "QQ-plot of Variable Sales\n"
     ]
    },
    {
     "data": {
      "image/png": "[encoded data removed]",
      "text/plain": [
       "<Figure size 432x288 with 1 Axes>"
      ]
     },
     "metadata": {},
     "output_type": "display_data"
    }
   ],
   "source": [
    "# Let us check the qq-plots for variable Sales\n",
    "print(\"QQ-plot of Variable Sales\")\n",
    "sm.qqplot(df['Sales'], line ='s'); "
   ]
  },
  {
   "cell_type": "code",
   "execution_count": 33,
   "id": "45917939",
   "metadata": {},
   "outputs": [
    {
     "name": "stdout",
     "output_type": "stream",
     "text": [
      "Pearson r: 0.13 r-squared: 0.02 p-value: 0.19\n"
     ]
    }
   ],
   "source": [
    "# Considering that the distributions seem to be approximately normal\n",
    "# We will consider a parametrics approach for correlations\n",
    "corr = scs.pearsonr(df['RAspend'], df['Sales'])\n",
    "print(\"Pearson r:\", np.round(corr[0],2), \"r-squared:\", np.round(corr[0]**2,2), \"p-value:\", np.round(corr[1],2))"
   ]
  },
  {
   "cell_type": "markdown",
   "id": "df6283b9",
   "metadata": {},
   "source": [
    "<span><font color='steelblue'>Result:</font></span> \n",
    "A correlation analysis was conducted between the variables Radio Ads Spending and Sales. It can be observed that there is no significant relationship between aforesaid variables (p >0.05). As such, it can be said that patterns observed may simply be attributed by chance and that it may not necessarily reflect that of the population. "
   ]
  }
 ],
 "metadata": {
  "kernelspec": {
   "display_name": "Python 3 (ipykernel)",
   "language": "python",
   "name": "python3"
  },
  "language_info": {
   "codemirror_mode": {
    "name": "ipython",
    "version": 3
   },
   "file_extension": ".py",
   "mimetype": "text/x-python",
   "name": "python",
   "nbconvert_exporter": "python",
   "pygments_lexer": "ipython3",
   "version": "3.9.7"
  }
 },
 "nbformat": 4,
 "nbformat_minor": 5
}

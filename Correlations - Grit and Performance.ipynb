{
 "cells": [
  {
   "cell_type": "markdown",
   "id": "ef5681cc",
   "metadata": {},
   "source": [
    "## <span style=\"font-family:Palatino Linotype\"><font color='teal'>Correlations on Grit and Academic Performance</font>\n",
    "### <span style=\"font-family:Palatino Linotype\"><font color='teal'>Paolo G. Hilado</font></span> \n",
    "\n",
    "<span><font color='steelblue'>Situationer:</font></span>  Inspired by related literatures showing that Grit is a determinant of being successful in life, a company wishes to explore whether the same variable correlates with the work performance of its employees. Using the standardized instrument to measure Grit and Work Performance, collected data is made available for exploratory analysis to check whether a significant relationship exists between said variables."
   ]
  },
  {
   "cell_type": "code",
   "execution_count": 28,
   "id": "6b05b498",
   "metadata": {},
   "outputs": [],
   "source": [
    "import pandas as pd\n",
    "import numpy as np\n",
    "import seaborn as sns\n",
    "import scipy.stats as scs\n",
    "import statsmodels.api as sm\n",
    "import warnings\n",
    "warnings.filterwarnings('ignore')"
   ]
  },
  {
   "cell_type": "code",
   "execution_count": 2,
   "id": "41bc4df5",
   "metadata": {},
   "outputs": [
    {
     "name": "stdout",
     "output_type": "stream",
     "text": [
      "<class 'pandas.core.frame.DataFrame'>\n",
      "RangeIndex: 205 entries, 0 to 204\n",
      "Data columns (total 3 columns):\n",
      " #   Column      Non-Null Count  Dtype  \n",
      "---  ------      --------------  -----  \n",
      " 0   Unnamed: 0  205 non-null    int64  \n",
      " 1   Grit        200 non-null    float64\n",
      " 2   Perf        200 non-null    float64\n",
      "dtypes: float64(2), int64(1)\n",
      "memory usage: 4.9 KB\n"
     ]
    }
   ],
   "source": [
    "# Load Data Frame and check its information (we have 205 rows and 3 columns)\n",
    "df = pd.read_excel(\"GritPerf.xlsx\")\n",
    "df.info()"
   ]
  },
  {
   "cell_type": "code",
   "execution_count": 3,
   "id": "5d377c4a",
   "metadata": {},
   "outputs": [
    {
     "data": {
      "text/html": [
       "<div>\n",
       "<style scoped>\n",
       "    .dataframe tbody tr th:only-of-type {\n",
       "        vertical-align: middle;\n",
       "    }\n",
       "\n",
       "    .dataframe tbody tr th {\n",
       "        vertical-align: top;\n",
       "    }\n",
       "\n",
       "    .dataframe thead th {\n",
       "        text-align: right;\n",
       "    }\n",
       "</style>\n",
       "<table border=\"1\" class=\"dataframe\">\n",
       "  <thead>\n",
       "    <tr style=\"text-align: right;\">\n",
       "      <th></th>\n",
       "      <th>Unnamed: 0</th>\n",
       "      <th>Grit</th>\n",
       "      <th>Perf</th>\n",
       "    </tr>\n",
       "  </thead>\n",
       "  <tbody>\n",
       "    <tr>\n",
       "      <th>5</th>\n",
       "      <td>6</td>\n",
       "      <td>NaN</td>\n",
       "      <td>NaN</td>\n",
       "    </tr>\n",
       "    <tr>\n",
       "      <th>8</th>\n",
       "      <td>9</td>\n",
       "      <td>NaN</td>\n",
       "      <td>NaN</td>\n",
       "    </tr>\n",
       "    <tr>\n",
       "      <th>16</th>\n",
       "      <td>17</td>\n",
       "      <td>NaN</td>\n",
       "      <td>NaN</td>\n",
       "    </tr>\n",
       "    <tr>\n",
       "      <th>23</th>\n",
       "      <td>24</td>\n",
       "      <td>NaN</td>\n",
       "      <td>NaN</td>\n",
       "    </tr>\n",
       "    <tr>\n",
       "      <th>29</th>\n",
       "      <td>30</td>\n",
       "      <td>NaN</td>\n",
       "      <td>NaN</td>\n",
       "    </tr>\n",
       "  </tbody>\n",
       "</table>\n",
       "</div>"
      ],
      "text/plain": [
       "    Unnamed: 0  Grit  Perf\n",
       "5            6   NaN   NaN\n",
       "8            9   NaN   NaN\n",
       "16          17   NaN   NaN\n",
       "23          24   NaN   NaN\n",
       "29          30   NaN   NaN"
      ]
     },
     "execution_count": 3,
     "metadata": {},
     "output_type": "execute_result"
    }
   ],
   "source": [
    "# Check out the rows with missing cases; they don't bring any relevance thus need to remove it. \n",
    "df[df.isnull().any(axis=1)]"
   ]
  },
  {
   "cell_type": "code",
   "execution_count": 4,
   "id": "f6cc070a",
   "metadata": {},
   "outputs": [
    {
     "name": "stdout",
     "output_type": "stream",
     "text": [
      "<class 'pandas.core.frame.DataFrame'>\n",
      "Int64Index: 200 entries, 0 to 204\n",
      "Data columns (total 2 columns):\n",
      " #   Column  Non-Null Count  Dtype  \n",
      "---  ------  --------------  -----  \n",
      " 0   Grit    200 non-null    float64\n",
      " 1   Perf    200 non-null    float64\n",
      "dtypes: float64(2)\n",
      "memory usage: 4.7 KB\n"
     ]
    }
   ],
   "source": [
    "# Deal with the missing cases\n",
    "df = df.dropna()\n",
    "df = df.iloc[:,1:]\n",
    "df.info()"
   ]
  },
  {
   "cell_type": "code",
   "execution_count": 5,
   "id": "eab3936d",
   "metadata": {},
   "outputs": [
    {
     "name": "stdout",
     "output_type": "stream",
     "text": [
      "Grit p-value: 0.772\n",
      "Performance p-value: 0.772\n",
      "Anderson Darling Statistic shows it is approx. normal\n"
     ]
    }
   ],
   "source": [
    "# Explore data if it meets assumptions for correlations\n",
    "# Check the p-value of the aderson darling test at 5% significance level\n",
    "ad = df.apply(scs.anderson, axis = 0)\n",
    "print(\"Grit p-value:\", ad.iloc[1,0][2])\n",
    "print(\"Performance p-value:\", ad.iloc[1,1][2])\n",
    "print(\"Anderson Darling Statistic shows it is approx. normal\")"
   ]
  },
  {
   "cell_type": "code",
   "execution_count": 6,
   "id": "19a3fb19",
   "metadata": {},
   "outputs": [
    {
     "data": {
      "image/png": "[encoded data removed]",
      "text/plain": [
       "<Figure size 432x288 with 1 Axes>"
      ]
     },
     "metadata": {},
     "output_type": "display_data"
    }
   ],
   "source": [
    "# Check Visualizations of the variables\n",
    "\n",
    "sns.set_theme(style=\"dark\")\n",
    "ax = sns.boxplot(data = df, palette = 'Set2')"
   ]
  },
  {
   "cell_type": "code",
   "execution_count": 22,
   "id": "c6119c73",
   "metadata": {},
   "outputs": [
    {
     "name": "stdout",
     "output_type": "stream",
     "text": [
      "QQ-plot of Variable Grit\n"
     ]
    },
    {
     "data": {
      "image/png": "[encoded data removed]",
      "text/plain": [
       "<Figure size 432x288 with 1 Axes>"
      ]
     },
     "metadata": {},
     "output_type": "display_data"
    }
   ],
   "source": [
    "# Let us check the qq-plots for variable Grit\n",
    "print(\"QQ-plot of Variable Grit\")\n",
    "sm.qqplot(df['Grit'], line ='s'); "
   ]
  },
  {
   "cell_type": "code",
   "execution_count": 23,
   "id": "0fcdbaf4",
   "metadata": {},
   "outputs": [
    {
     "name": "stdout",
     "output_type": "stream",
     "text": [
      "QQ-plot of Variable Work Performance\n"
     ]
    },
    {
     "data": {
      "image/png": "[encoded data removed]",
      "text/plain": [
       "<Figure size 432x288 with 1 Axes>"
      ]
     },
     "metadata": {},
     "output_type": "display_data"
    }
   ],
   "source": [
    "# Let us check the qq-plots for variable Work Performance\n",
    "print(\"QQ-plot of Variable Work Performance\")\n",
    "sm.qqplot(df['Perf'], line ='s');"
   ]
  },
  {
   "cell_type": "code",
   "execution_count": 35,
   "id": "09a80629",
   "metadata": {},
   "outputs": [
    {
     "name": "stdout",
     "output_type": "stream",
     "text": [
      "Pearson r: 0.47 R-squared 0.22 p-value: 0.0\n"
     ]
    }
   ],
   "source": [
    "# Having been informed that we have distributions that are approximately normal\n",
    "# let us use the parametric approach for correlations\n",
    "corr = scs.pearsonr(df['Grit'], df['Perf'])\n",
    "print(\"Pearson r:\", np.round(corr[0],2), \"R-squared\", np.round(corr[0]**2,2), \"p-value:\", np.round(corr[1],2))"
   ]
  },
  {
   "cell_type": "markdown",
   "id": "8740e73b",
   "metadata": {},
   "source": [
    "<span><font color='steelblue'>Result:</font></span> A correlation analysis was conducted between the variables Grit and Work Performance. It can be observed that there is a moderate positive (r = 0.47) relationship between the aforesaid variables; an increase in Grit is likely to lead to an increase in Work Performance and vice versa. The variance explained between these variables is at 0.22. Moreover, it can also be observed that the said relationship is statistically significant (p-value <0.05) thus informing us that observations of the sample may also hold true with the population. "
   ]
  }
 ],
 "metadata": {
  "kernelspec": {
   "display_name": "Python 3 (ipykernel)",
   "language": "python",
   "name": "python3"
  },
  "language_info": {
   "codemirror_mode": {
    "name": "ipython",
    "version": 3
   },
   "file_extension": ".py",
   "mimetype": "text/x-python",
   "name": "python",
   "nbconvert_exporter": "python",
   "pygments_lexer": "ipython3",
   "version": "3.9.7"
  }
 },
 "nbformat": 4,
 "nbformat_minor": 5
}

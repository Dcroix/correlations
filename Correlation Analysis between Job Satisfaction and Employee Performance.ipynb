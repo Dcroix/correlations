{
 "cells": [
  {
   "cell_type": "markdown",
   "id": "71169671",
   "metadata": {},
   "source": [
    "# <span style=\"font-family:Palatino Linotype\"><font color='steelblue'>Correlation Analysis between Job Satisfaction and Employee Performance</font></span> \n",
    "## <span style=\"font-family:Palatino Linotype\"><font color='teal'>Paolo G. Hilado</font></span> "
   ]
  },
  {
   "cell_type": "markdown",
   "id": "294a3c54",
   "metadata": {},
   "source": [
    "<span style = \"font-family:Calibri\"><font color = 'steelblue'>Situationer:</font></span> Despite voluminous literatures that confirm the relationship between job satisfaction and employee performance, the company wishes to assess whether such also occurs within its context. Having met the desired sample size using Modified Cochran and randomly sampled participants, gathered data is to be explored to confirm whether a significant relationship exists between aforesaid variables. "
   ]
  },
  {
   "cell_type": "code",
   "execution_count": 39,
   "id": "d49ca690",
   "metadata": {},
   "outputs": [],
   "source": [
    "import pandas as pd\n",
    "import numpy as np\n",
    "import scipy.stats as scs\n",
    "import seaborn as sns\n",
    "import statsmodels.api as sm\n",
    "import warnings\n",
    "warnings.filterwarnings('ignore')"
   ]
  },
  {
   "cell_type": "code",
   "execution_count": 17,
   "id": "e3dcbf79",
   "metadata": {},
   "outputs": [
    {
     "name": "stdout",
     "output_type": "stream",
     "text": [
      "<class 'pandas.core.frame.DataFrame'>\n",
      "RangeIndex: 344 entries, 0 to 343\n",
      "Data columns (total 5 columns):\n",
      " #   Column      Non-Null Count  Dtype  \n",
      "---  ------      --------------  -----  \n",
      " 0   Unnamed: 0  344 non-null    int64  \n",
      " 1   JobSat      338 non-null    float64\n",
      " 2   EmpPerf     338 non-null    float64\n",
      " 3   EmpID       338 non-null    float64\n",
      " 4   Sex         338 non-null    object \n",
      "dtypes: float64(3), int64(1), object(1)\n",
      "memory usage: 13.6+ KB\n"
     ]
    }
   ],
   "source": [
    "# Load the data set and check out its structure\n",
    "df = pd.read_excel(\"JobSatPerf.xlsx\")\n",
    "df.info()"
   ]
  },
  {
   "cell_type": "code",
   "execution_count": 18,
   "id": "5c88b009",
   "metadata": {},
   "outputs": [
    {
     "data": {
      "text/html": [
       "<div>\n",
       "<style scoped>\n",
       "    .dataframe tbody tr th:only-of-type {\n",
       "        vertical-align: middle;\n",
       "    }\n",
       "\n",
       "    .dataframe tbody tr th {\n",
       "        vertical-align: top;\n",
       "    }\n",
       "\n",
       "    .dataframe thead th {\n",
       "        text-align: right;\n",
       "    }\n",
       "</style>\n",
       "<table border=\"1\" class=\"dataframe\">\n",
       "  <thead>\n",
       "    <tr style=\"text-align: right;\">\n",
       "      <th></th>\n",
       "      <th>Unnamed: 0</th>\n",
       "      <th>JobSat</th>\n",
       "      <th>EmpPerf</th>\n",
       "      <th>EmpID</th>\n",
       "      <th>Sex</th>\n",
       "    </tr>\n",
       "  </thead>\n",
       "  <tbody>\n",
       "    <tr>\n",
       "      <th>17</th>\n",
       "      <td>18</td>\n",
       "      <td>NaN</td>\n",
       "      <td>NaN</td>\n",
       "      <td>NaN</td>\n",
       "      <td>NaN</td>\n",
       "    </tr>\n",
       "    <tr>\n",
       "      <th>51</th>\n",
       "      <td>52</td>\n",
       "      <td>NaN</td>\n",
       "      <td>NaN</td>\n",
       "      <td>NaN</td>\n",
       "      <td>NaN</td>\n",
       "    </tr>\n",
       "    <tr>\n",
       "      <th>75</th>\n",
       "      <td>76</td>\n",
       "      <td>NaN</td>\n",
       "      <td>NaN</td>\n",
       "      <td>NaN</td>\n",
       "      <td>NaN</td>\n",
       "    </tr>\n",
       "    <tr>\n",
       "      <th>101</th>\n",
       "      <td>102</td>\n",
       "      <td>NaN</td>\n",
       "      <td>NaN</td>\n",
       "      <td>NaN</td>\n",
       "      <td>NaN</td>\n",
       "    </tr>\n",
       "    <tr>\n",
       "      <th>251</th>\n",
       "      <td>252</td>\n",
       "      <td>NaN</td>\n",
       "      <td>NaN</td>\n",
       "      <td>NaN</td>\n",
       "      <td>NaN</td>\n",
       "    </tr>\n",
       "    <tr>\n",
       "      <th>337</th>\n",
       "      <td>338</td>\n",
       "      <td>NaN</td>\n",
       "      <td>NaN</td>\n",
       "      <td>NaN</td>\n",
       "      <td>NaN</td>\n",
       "    </tr>\n",
       "  </tbody>\n",
       "</table>\n",
       "</div>"
      ],
      "text/plain": [
       "     Unnamed: 0  JobSat  EmpPerf  EmpID  Sex\n",
       "17           18     NaN      NaN    NaN  NaN\n",
       "51           52     NaN      NaN    NaN  NaN\n",
       "75           76     NaN      NaN    NaN  NaN\n",
       "101         102     NaN      NaN    NaN  NaN\n",
       "251         252     NaN      NaN    NaN  NaN\n",
       "337         338     NaN      NaN    NaN  NaN"
      ]
     },
     "execution_count": 18,
     "metadata": {},
     "output_type": "execute_result"
    }
   ],
   "source": [
    "# Check out the rows with missing cases\n",
    "df[df.isnull().any(axis=1)]"
   ]
  },
  {
   "cell_type": "code",
   "execution_count": 19,
   "id": "5ad5b544",
   "metadata": {},
   "outputs": [
    {
     "data": {
      "text/plain": [
       "JobSat     False\n",
       "EmpPerf    False\n",
       "dtype: bool"
      ]
     },
     "execution_count": 19,
     "metadata": {},
     "output_type": "execute_result"
    }
   ],
   "source": [
    "# Since the rows with missing cases are irrelevant, let's remove them\n",
    "# Also remove unnecessary columns\n",
    "df = df.dropna()\n",
    "df = df.iloc[:, 1:3]\n",
    "df.isnull().any()"
   ]
  },
  {
   "cell_type": "code",
   "execution_count": 30,
   "id": "b9a75ce8",
   "metadata": {},
   "outputs": [
    {
     "name": "stdout",
     "output_type": "stream",
     "text": [
      "Job Satisfaction p-value: 0.778\n",
      "Employee Performance p-value: 0.778\n"
     ]
    }
   ],
   "source": [
    "# Check to see if the assumptions for parametric correlations are met\n",
    "ad = df.apply(scs.anderson, axis=0)\n",
    "print(\"Job Satisfaction p-value:\", ad.iloc[1,0][2])\n",
    "print(\"Employee Performance p-value:\", ad.iloc[1,1][2])"
   ]
  },
  {
   "cell_type": "code",
   "execution_count": 37,
   "id": "4becfb11",
   "metadata": {},
   "outputs": [
    {
     "data": {
      "image/png": "[encoded data removed]",
      "text/plain": [
       "<Figure size 432x288 with 1 Axes>"
      ]
     },
     "metadata": {},
     "output_type": "display_data"
    }
   ],
   "source": [
    "# Check visualizations to asses normality of distribution\n",
    "sns.set_theme(style=\"dark\")\n",
    "ax = sns.boxplot(data=df, palette = 'Set2')"
   ]
  },
  {
   "cell_type": "code",
   "execution_count": 40,
   "id": "30bba27f",
   "metadata": {},
   "outputs": [
    {
     "name": "stdout",
     "output_type": "stream",
     "text": [
      "QQ-plot of Variable Job Satisfaction\n"
     ]
    },
    {
     "data": {
      "image/png": "[encoded data removed]",
      "text/plain": [
       "<Figure size 432x288 with 1 Axes>"
      ]
     },
     "metadata": {},
     "output_type": "display_data"
    }
   ],
   "source": [
    "# Let us check the qq-plots for variable Job Satisfaction\n",
    "print(\"QQ-plot of Variable Job Satisfaction\")\n",
    "sm.qqplot(df['JobSat'], line ='s'); "
   ]
  },
  {
   "cell_type": "code",
   "execution_count": 41,
   "id": "c02bc905",
   "metadata": {},
   "outputs": [
    {
     "name": "stdout",
     "output_type": "stream",
     "text": [
      "QQ-plot of Variable Employee Performance\n"
     ]
    },
    {
     "data": {
      "image/png": "[encoded data removed]",
      "text/plain": [
       "<Figure size 432x288 with 1 Axes>"
      ]
     },
     "metadata": {},
     "output_type": "display_data"
    }
   ],
   "source": [
    "# Let us check the qq-plots for variable Employee Performance\n",
    "print(\"QQ-plot of Variable Employee Performance\")\n",
    "sm.qqplot(df['EmpPerf'], line ='s'); "
   ]
  },
  {
   "cell_type": "code",
   "execution_count": 44,
   "id": "58b97a38",
   "metadata": {},
   "outputs": [
    {
     "name": "stdout",
     "output_type": "stream",
     "text": [
      "Kendall's tau-b: 0.5 R-squared 0.25 p-value: 0.0\n"
     ]
    }
   ],
   "source": [
    "# Knowing that we have distributions that have outliers\n",
    "# let us use the non-parametric approach for correlations\n",
    "corr = scs.kendalltau(df['JobSat'], df['EmpPerf'])\n",
    "print(\"Kendall's tau-b:\", np.round(corr[0],2), \"R-squared\", np.round(corr[0]**2,2), \"p-value:\", np.round(corr[1],2))"
   ]
  },
  {
   "cell_type": "markdown",
   "id": "2984947d",
   "metadata": {},
   "source": [
    "<span><font color='steelblue'>Result:</font></span> A correlation analysis was conducted between the variables Job Satisfaction and Employee Performance. It can be observed that there is a moderate positive (r = 0.5) relationship between the aforesaid variables; an increase in Job Satisfaction is likely to lead to an increase in Employee Performance. The variance explained between these variables is at 0.25. Moreover, it can also be observed that the said relationship is statistically significant (p-value <0.05) thus informing us that observations of the sample may also hold true with the population. "
   ]
  }
 ],
 "metadata": {
  "kernelspec": {
   "display_name": "Python 3 (ipykernel)",
   "language": "python",
   "name": "python3"
  },
  "language_info": {
   "codemirror_mode": {
    "name": "ipython",
    "version": 3
   },
   "file_extension": ".py",
   "mimetype": "text/x-python",
   "name": "python",
   "nbconvert_exporter": "python",
   "pygments_lexer": "ipython3",
   "version": "3.9.7"
  }
 },
 "nbformat": 4,
 "nbformat_minor": 5
}
